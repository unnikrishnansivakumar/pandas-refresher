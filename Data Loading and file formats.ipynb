{
 "cells": [
  {
   "cell_type": "markdown",
   "metadata": {},
   "source": [
    "# Data Loading,Storage and File Formats"
   ]
  },
  {
   "cell_type": "code",
   "execution_count": 1,
   "metadata": {
    "collapsed": false
   },
   "outputs": [],
   "source": [
    "#read_csv,read_table\n",
    "\n",
    "import pandas as pd\n",
    "\n",
    "df = pd.read_csv(\"C:/Users/unnikrishnan.s/My Projects/training/pandas-refresher/tips.csv\")"
   ]
  },
  {
   "cell_type": "code",
   "execution_count": 2,
   "metadata": {
    "collapsed": false
   },
   "outputs": [
    {
     "data": {
      "text/html": [
       "<div>\n",
       "<table border=\"1\" class=\"dataframe\">\n",
       "  <thead>\n",
       "    <tr style=\"text-align: right;\">\n",
       "      <th></th>\n",
       "      <th>total_bill</th>\n",
       "      <th>tip</th>\n",
       "      <th>sex</th>\n",
       "      <th>smoker</th>\n",
       "      <th>day</th>\n",
       "      <th>time</th>\n",
       "      <th>size</th>\n",
       "      <th>tip_pct</th>\n",
       "    </tr>\n",
       "  </thead>\n",
       "  <tbody>\n",
       "    <tr>\n",
       "      <th>0</th>\n",
       "      <td>22.0</td>\n",
       "      <td>1.232</td>\n",
       "      <td>F</td>\n",
       "      <td>No</td>\n",
       "      <td>Sun</td>\n",
       "      <td>Dinner</td>\n",
       "      <td>2</td>\n",
       "      <td>0.056</td>\n",
       "    </tr>\n",
       "    <tr>\n",
       "      <th>1</th>\n",
       "      <td>21.3</td>\n",
       "      <td>3.408</td>\n",
       "      <td>M</td>\n",
       "      <td>No</td>\n",
       "      <td>Sun</td>\n",
       "      <td>Dinner</td>\n",
       "      <td>3</td>\n",
       "      <td>0.160</td>\n",
       "    </tr>\n",
       "    <tr>\n",
       "      <th>2</th>\n",
       "      <td>12.0</td>\n",
       "      <td>1.680</td>\n",
       "      <td>M</td>\n",
       "      <td>No</td>\n",
       "      <td>Sun</td>\n",
       "      <td>Dinner</td>\n",
       "      <td>1</td>\n",
       "      <td>0.140</td>\n",
       "    </tr>\n",
       "    <tr>\n",
       "      <th>3</th>\n",
       "      <td>67.0</td>\n",
       "      <td>11.390</td>\n",
       "      <td>M</td>\n",
       "      <td>No</td>\n",
       "      <td>Sun</td>\n",
       "      <td>Dinner</td>\n",
       "      <td>4</td>\n",
       "      <td>0.170</td>\n",
       "    </tr>\n",
       "    <tr>\n",
       "      <th>4</th>\n",
       "      <td>11.0</td>\n",
       "      <td>1.078</td>\n",
       "      <td>F</td>\n",
       "      <td>No</td>\n",
       "      <td>Sun</td>\n",
       "      <td>Dinner</td>\n",
       "      <td>3</td>\n",
       "      <td>0.098</td>\n",
       "    </tr>\n",
       "    <tr>\n",
       "      <th>5</th>\n",
       "      <td>22.0</td>\n",
       "      <td>2.464</td>\n",
       "      <td>M</td>\n",
       "      <td>No</td>\n",
       "      <td>Sun</td>\n",
       "      <td>Dinner</td>\n",
       "      <td>4</td>\n",
       "      <td>0.112</td>\n",
       "    </tr>\n",
       "    <tr>\n",
       "      <th>6</th>\n",
       "      <td>11.0</td>\n",
       "      <td>1.430</td>\n",
       "      <td>F</td>\n",
       "      <td>Yes</td>\n",
       "      <td>Sat</td>\n",
       "      <td>Lunch</td>\n",
       "      <td>2</td>\n",
       "      <td>0.130</td>\n",
       "    </tr>\n",
       "    <tr>\n",
       "      <th>7</th>\n",
       "      <td>34.0</td>\n",
       "      <td>4.250</td>\n",
       "      <td>M</td>\n",
       "      <td>Yes</td>\n",
       "      <td>Sat</td>\n",
       "      <td>Lunch</td>\n",
       "      <td>3</td>\n",
       "      <td>0.125</td>\n",
       "    </tr>\n",
       "    <tr>\n",
       "      <th>8</th>\n",
       "      <td>23.0</td>\n",
       "      <td>3.795</td>\n",
       "      <td>M</td>\n",
       "      <td>Yes</td>\n",
       "      <td>Sat</td>\n",
       "      <td>Lunch</td>\n",
       "      <td>2</td>\n",
       "      <td>0.165</td>\n",
       "    </tr>\n",
       "    <tr>\n",
       "      <th>9</th>\n",
       "      <td>45.0</td>\n",
       "      <td>8.415</td>\n",
       "      <td>M</td>\n",
       "      <td>Yes</td>\n",
       "      <td>Sat</td>\n",
       "      <td>Lunch</td>\n",
       "      <td>6</td>\n",
       "      <td>0.187</td>\n",
       "    </tr>\n",
       "    <tr>\n",
       "      <th>10</th>\n",
       "      <td>23.0</td>\n",
       "      <td>2.530</td>\n",
       "      <td>F</td>\n",
       "      <td>Yes</td>\n",
       "      <td>Sat</td>\n",
       "      <td>Lunch</td>\n",
       "      <td>3</td>\n",
       "      <td>0.110</td>\n",
       "    </tr>\n",
       "    <tr>\n",
       "      <th>11</th>\n",
       "      <td>98.0</td>\n",
       "      <td>22.540</td>\n",
       "      <td>M</td>\n",
       "      <td>Yes</td>\n",
       "      <td>Sat</td>\n",
       "      <td>Lunch</td>\n",
       "      <td>1</td>\n",
       "      <td>0.230</td>\n",
       "    </tr>\n",
       "    <tr>\n",
       "      <th>12</th>\n",
       "      <td>11.0</td>\n",
       "      <td>1.210</td>\n",
       "      <td>F</td>\n",
       "      <td>Yes</td>\n",
       "      <td>Sat</td>\n",
       "      <td>Lunch</td>\n",
       "      <td>2</td>\n",
       "      <td>0.110</td>\n",
       "    </tr>\n",
       "  </tbody>\n",
       "</table>\n",
       "</div>"
      ],
      "text/plain": [
       "    total_bill     tip sex smoker  day    time  size  tip_pct\n",
       "0         22.0   1.232   F     No  Sun  Dinner     2    0.056\n",
       "1         21.3   3.408   M     No  Sun  Dinner     3    0.160\n",
       "2         12.0   1.680   M     No  Sun  Dinner     1    0.140\n",
       "3         67.0  11.390   M     No  Sun  Dinner     4    0.170\n",
       "4         11.0   1.078   F     No  Sun  Dinner     3    0.098\n",
       "5         22.0   2.464   M     No  Sun  Dinner     4    0.112\n",
       "6         11.0   1.430   F    Yes  Sat   Lunch     2    0.130\n",
       "7         34.0   4.250   M    Yes  Sat   Lunch     3    0.125\n",
       "8         23.0   3.795   M    Yes  Sat   Lunch     2    0.165\n",
       "9         45.0   8.415   M    Yes  Sat   Lunch     6    0.187\n",
       "10        23.0   2.530   F    Yes  Sat   Lunch     3    0.110\n",
       "11        98.0  22.540   M    Yes  Sat   Lunch     1    0.230\n",
       "12        11.0   1.210   F    Yes  Sat   Lunch     2    0.110"
      ]
     },
     "execution_count": 2,
     "metadata": {},
     "output_type": "execute_result"
    }
   ],
   "source": [
    "df"
   ]
  },
  {
   "cell_type": "code",
   "execution_count": 3,
   "metadata": {
    "collapsed": true
   },
   "outputs": [],
   "source": [
    "df2 = pd.read_csv(\"C:/Users/unnikrishnan.s/My Projects/training/pandas-refresher/tips.csv\",index_col=['time','smoker','sex'])"
   ]
  },
  {
   "cell_type": "code",
   "execution_count": 4,
   "metadata": {
    "collapsed": false
   },
   "outputs": [
    {
     "data": {
      "text/html": [
       "<div>\n",
       "<table border=\"1\" class=\"dataframe\">\n",
       "  <thead>\n",
       "    <tr style=\"text-align: right;\">\n",
       "      <th></th>\n",
       "      <th></th>\n",
       "      <th></th>\n",
       "      <th>total_bill</th>\n",
       "      <th>tip</th>\n",
       "      <th>day</th>\n",
       "      <th>size</th>\n",
       "      <th>tip_pct</th>\n",
       "    </tr>\n",
       "    <tr>\n",
       "      <th>time</th>\n",
       "      <th>smoker</th>\n",
       "      <th>sex</th>\n",
       "      <th></th>\n",
       "      <th></th>\n",
       "      <th></th>\n",
       "      <th></th>\n",
       "      <th></th>\n",
       "    </tr>\n",
       "  </thead>\n",
       "  <tbody>\n",
       "    <tr>\n",
       "      <th rowspan=\"6\" valign=\"top\">Dinner</th>\n",
       "      <th rowspan=\"6\" valign=\"top\">No</th>\n",
       "      <th>F</th>\n",
       "      <td>22.0</td>\n",
       "      <td>1.232</td>\n",
       "      <td>Sun</td>\n",
       "      <td>2</td>\n",
       "      <td>0.056</td>\n",
       "    </tr>\n",
       "    <tr>\n",
       "      <th>M</th>\n",
       "      <td>21.3</td>\n",
       "      <td>3.408</td>\n",
       "      <td>Sun</td>\n",
       "      <td>3</td>\n",
       "      <td>0.160</td>\n",
       "    </tr>\n",
       "    <tr>\n",
       "      <th>M</th>\n",
       "      <td>12.0</td>\n",
       "      <td>1.680</td>\n",
       "      <td>Sun</td>\n",
       "      <td>1</td>\n",
       "      <td>0.140</td>\n",
       "    </tr>\n",
       "    <tr>\n",
       "      <th>M</th>\n",
       "      <td>67.0</td>\n",
       "      <td>11.390</td>\n",
       "      <td>Sun</td>\n",
       "      <td>4</td>\n",
       "      <td>0.170</td>\n",
       "    </tr>\n",
       "    <tr>\n",
       "      <th>F</th>\n",
       "      <td>11.0</td>\n",
       "      <td>1.078</td>\n",
       "      <td>Sun</td>\n",
       "      <td>3</td>\n",
       "      <td>0.098</td>\n",
       "    </tr>\n",
       "    <tr>\n",
       "      <th>M</th>\n",
       "      <td>22.0</td>\n",
       "      <td>2.464</td>\n",
       "      <td>Sun</td>\n",
       "      <td>4</td>\n",
       "      <td>0.112</td>\n",
       "    </tr>\n",
       "    <tr>\n",
       "      <th rowspan=\"7\" valign=\"top\">Lunch</th>\n",
       "      <th rowspan=\"7\" valign=\"top\">Yes</th>\n",
       "      <th>F</th>\n",
       "      <td>11.0</td>\n",
       "      <td>1.430</td>\n",
       "      <td>Sat</td>\n",
       "      <td>2</td>\n",
       "      <td>0.130</td>\n",
       "    </tr>\n",
       "    <tr>\n",
       "      <th>M</th>\n",
       "      <td>34.0</td>\n",
       "      <td>4.250</td>\n",
       "      <td>Sat</td>\n",
       "      <td>3</td>\n",
       "      <td>0.125</td>\n",
       "    </tr>\n",
       "    <tr>\n",
       "      <th>M</th>\n",
       "      <td>23.0</td>\n",
       "      <td>3.795</td>\n",
       "      <td>Sat</td>\n",
       "      <td>2</td>\n",
       "      <td>0.165</td>\n",
       "    </tr>\n",
       "    <tr>\n",
       "      <th>M</th>\n",
       "      <td>45.0</td>\n",
       "      <td>8.415</td>\n",
       "      <td>Sat</td>\n",
       "      <td>6</td>\n",
       "      <td>0.187</td>\n",
       "    </tr>\n",
       "    <tr>\n",
       "      <th>F</th>\n",
       "      <td>23.0</td>\n",
       "      <td>2.530</td>\n",
       "      <td>Sat</td>\n",
       "      <td>3</td>\n",
       "      <td>0.110</td>\n",
       "    </tr>\n",
       "    <tr>\n",
       "      <th>M</th>\n",
       "      <td>98.0</td>\n",
       "      <td>22.540</td>\n",
       "      <td>Sat</td>\n",
       "      <td>1</td>\n",
       "      <td>0.230</td>\n",
       "    </tr>\n",
       "    <tr>\n",
       "      <th>F</th>\n",
       "      <td>11.0</td>\n",
       "      <td>1.210</td>\n",
       "      <td>Sat</td>\n",
       "      <td>2</td>\n",
       "      <td>0.110</td>\n",
       "    </tr>\n",
       "  </tbody>\n",
       "</table>\n",
       "</div>"
      ],
      "text/plain": [
       "                   total_bill     tip  day  size  tip_pct\n",
       "time   smoker sex                                        \n",
       "Dinner No     F          22.0   1.232  Sun     2    0.056\n",
       "              M          21.3   3.408  Sun     3    0.160\n",
       "              M          12.0   1.680  Sun     1    0.140\n",
       "              M          67.0  11.390  Sun     4    0.170\n",
       "              F          11.0   1.078  Sun     3    0.098\n",
       "              M          22.0   2.464  Sun     4    0.112\n",
       "Lunch  Yes    F          11.0   1.430  Sat     2    0.130\n",
       "              M          34.0   4.250  Sat     3    0.125\n",
       "              M          23.0   3.795  Sat     2    0.165\n",
       "              M          45.0   8.415  Sat     6    0.187\n",
       "              F          23.0   2.530  Sat     3    0.110\n",
       "              M          98.0  22.540  Sat     1    0.230\n",
       "              F          11.0   1.210  Sat     2    0.110"
      ]
     },
     "execution_count": 4,
     "metadata": {},
     "output_type": "execute_result"
    }
   ],
   "source": [
    "df2"
   ]
  },
  {
   "cell_type": "code",
   "execution_count": 5,
   "metadata": {
    "collapsed": false
   },
   "outputs": [],
   "source": [
    "df2.to_csv('lunch.csv',index=True,header=True)"
   ]
  },
  {
   "cell_type": "code",
   "execution_count": 6,
   "metadata": {
    "collapsed": false
   },
   "outputs": [
    {
     "name": "stdout",
     "output_type": "stream",
     "text": [
      "['time', 'smoker', 'sex', 'total_bill', 'tip', 'day', 'size', 'tip_pct']\n",
      "['Dinner', 'No', 'F', '22.0', '1.232', 'Sun', '2', '0.056']\n",
      "['Dinner', 'No', 'M', '21.3', '3.408', 'Sun', '3', '0.16']\n",
      "['Dinner', 'No', 'M', '12.0', '1.68', 'Sun', '1', '0.14']\n",
      "['Dinner', 'No', 'M', '67.0', '11.39', 'Sun', '4', '0.17']\n",
      "['Dinner', 'No', 'F', '11.0', '1.078', 'Sun', '3', '0.098']\n",
      "['Dinner', 'No', 'M', '22.0', '2.464', 'Sun', '4', '0.112']\n",
      "['Lunch', 'Yes', 'F', '11.0', '1.43', 'Sat', '2', '0.13']\n",
      "['Lunch', 'Yes', 'M', '34.0', '4.25', 'Sat', '3', '0.125']\n",
      "['Lunch', 'Yes', 'M', '23.0', '3.795', 'Sat', '2', '0.165']\n",
      "['Lunch', 'Yes', 'M', '45.0', '8.415', 'Sat', '6', '0.187']\n",
      "['Lunch', 'Yes', 'F', '23.0', '2.53', 'Sat', '3', '0.11']\n",
      "['Lunch', 'Yes', 'M', '98.0', '22.54', 'Sat', '1', '0.23']\n",
      "['Lunch', 'Yes', 'F', '11.0', '1.21', 'Sat', '2', '0.11']\n"
     ]
    }
   ],
   "source": [
    "# We can also create an iterator\n",
    "\n",
    "import csv\n",
    "\n",
    "f=open('lunch.csv')\n",
    "reader=csv.reader(f)\n",
    "\n",
    "for line in reader:\n",
    "    print line"
   ]
  },
  {
   "cell_type": "markdown",
   "metadata": {},
   "source": [
    "## Json data"
   ]
  },
  {
   "cell_type": "code",
   "execution_count": 7,
   "metadata": {
    "collapsed": false
   },
   "outputs": [],
   "source": [
    "#we use json library including json loads and json dumps\n",
    "import json\n",
    "\n",
    "obj = \"\"\"\n",
    "{\"name\": \"Wes\",\n",
    "\"places_lived\": [\"United States\", \"Spain\", \"Germany\"],\n",
    "\"pet\": null,\n",
    "\"siblings\": [{\"name\": \"Scott\", \"age\": 25, \"pet\": \"Zuko\"},\n",
    "{\"name\": \"Katie\", \"age\": 33, \"pet\": \"Cisco\"}]\n",
    "}\n",
    "\"\"\"\n",
    "\n",
    "result = json.loads(obj)\n",
    "argson = json.dumps(result)"
   ]
  },
  {
   "cell_type": "markdown",
   "metadata": {
    "collapsed": true
   },
   "source": [
    "## Web scraping\n",
    "\n"
   ]
  },
  {
   "cell_type": "code",
   "execution_count": 8,
   "metadata": {
    "collapsed": false
   },
   "outputs": [],
   "source": [
    "from lxml.html import parse\n",
    "from urllib2 import urlopen\n",
    "\n",
    "parsed = parse('http://www.thehindu.com/opinion/')\n",
    "\n",
    "doc=parsed.getroot()"
   ]
  },
  {
   "cell_type": "code",
   "execution_count": 9,
   "metadata": {
    "collapsed": false
   },
   "outputs": [],
   "source": [
    "links=doc.findall('.//a')"
   ]
  },
  {
   "cell_type": "code",
   "execution_count": 10,
   "metadata": {
    "collapsed": false
   },
   "outputs": [
    {
     "name": "stdout",
     "output_type": "stream",
     "text": [
      "News \n",
      "National \n",
      "International \n",
      "States \n",
      "Cities \n",
      "Opinion \n",
      "Cartoon \n",
      "Columns \n",
      "Editorial \n",
      "Interview \n",
      "Lead \n",
      "Readers' Editor \n",
      "Comment \n",
      "Open Page \n",
      "Letters \n",
      "Business \n",
      "Agri-Business \n",
      "Industry \n",
      "Economy \n",
      "Markets \n",
      "Budget \n",
      "Stock Quotes \n",
      "Sport \n",
      "Cricket \n",
      "Football \n",
      "Hockey \n",
      "Tennis \n",
      "Athletics \n",
      "Motorsport \n",
      "Races \n",
      "Other Sports \n",
      "Entertainment \n",
      "Art \n",
      "Dance \n",
      "Movies \n",
      "Music \n",
      "Reviews \n",
      "Theatre \n",
      "Life & Style \n",
      "Fashion \n",
      "Fitness \n",
      "Food \n",
      "Motoring \n",
      "Travel \n",
      "Homes and gardens \n",
      "Society \n",
      "Faith \n",
      "History & Culture \n",
      "Books \n",
      "Reviews \n",
      "Authors \n",
      "Sci-Tech \n",
      "Science \n",
      "Technology \n",
      "Health \n",
      "Agriculture \n",
      "Environment \n",
      "Gadgets \n",
      "Internet \n"
     ]
    }
   ],
   "source": [
    "for link in links[11:70]:\n",
    "    print(link.text_content())"
   ]
  },
  {
   "cell_type": "code",
   "execution_count": 11,
   "metadata": {
    "collapsed": false
   },
   "outputs": [],
   "source": [
    "def unpack(url,key='td'):\n",
    "    parsed = parse(url)   #parse\n",
    "    doc = parsed.getroot() #get the root\n",
    "    text=doc.findall(\".//\"+ key) #define the key to search\n",
    "    return [line.text_content() for line in text]"
   ]
  },
  {
   "cell_type": "code",
   "execution_count": 12,
   "metadata": {
    "collapsed": false
   },
   "outputs": [
    {
     "data": {
      "text/plain": [
       "['\\r\\n\\r\\n\\r\\n<!--\\r\\ngoogle_ad_client = \"ca-pub-0120177304734599\";\\r\\n/* top728x90 */\\r\\ngoogle_ad_slot = \"4247478622\";\\r\\ngoogle_ad_width = 728;\\r\\ngoogle_ad_height = 90;\\r\\n//-->\\r\\n\\r\\n\\r\\n\\r\\n\\r\\n\\r\\n<!--\\r\\ngoogle_ad_client = \"ca-pub-0120177304734599\";\\r\\n/* top160x90 */\\r\\ngoogle_ad_slot = \"4107877822\";\\r\\ngoogle_ad_width = 160;\\r\\ngoogle_ad_height = 90;\\r\\n//-->\\r\\n\\r\\n\\r\\n\\r\\n',\n",
       " '\\n\\n\\n\\n\\n\\n\\n\\n\\n\\n\\n\\n\\n',\n",
       " '\\n\\n\\n<!--\\ngoogle_ad_client = \"ca-pub-0120177304734599\";\\n/* bottomL350x200 */\\ngoogle_ad_slot = \"9059344227\";\\ngoogle_ad_width = 300;\\ngoogle_ad_height = 250;\\n//-->\\n\\n\\n\\n\\n\\n<!--\\ngoogle_ad_client = \"ca-pub-0120177304734599\";\\n/* bottomR350x200 */\\ngoogle_ad_slot = \"1536077426\";\\ngoogle_ad_width = 300;\\ngoogle_ad_height = 250;\\n//-->\\n\\n\\n\\n']"
      ]
     },
     "execution_count": 12,
     "metadata": {},
     "output_type": "execute_result"
    }
   ],
   "source": [
    "unpack(\"http://www.sosmath.com/tables/prime/prime.html\",'table')"
   ]
  },
  {
   "cell_type": "code",
   "execution_count": 13,
   "metadata": {
    "collapsed": false
   },
   "outputs": [],
   "source": [
    "#Text parser \n",
    "\n",
    "from pandas.io.parsers import TextParser\n",
    "\n",
    "parsed = parse(urlopen(\"https://finance.yahoo.com/gainers\"))\n",
    "root = parsed.getroot()\n",
    "\n",
    "def _unpack(root,key):\n",
    "    text= root.findall(\".//\" + key)\n",
    "    return [line.text_content() for line in text]\n",
    "\n",
    "def make_table(root):\n",
    "    table = root.findall('.//tr')\n",
    "    header = _unpack(table[0],'th')\n",
    "    contents = _unpack(table[1:],'td')\n",
    "    return header,contents\n",
    "\n",
    "\n",
    "    \n",
    "    \n",
    "    "
   ]
  },
  {
   "cell_type": "code",
   "execution_count": 14,
   "metadata": {
    "collapsed": false
   },
   "outputs": [],
   "source": [
    "# Parsing xml with objectify\n",
    "\n",
    "# objectify.parse(open(path))"
   ]
  },
  {
   "cell_type": "markdown",
   "metadata": {},
   "source": [
    "# Binary data formats and HDFS"
   ]
  },
  {
   "cell_type": "markdown",
   "metadata": {},
   "source": [
    "* Binary data format- using Pickle serialization using pd.load('datafile') after frame.save(datafile) as it will get loaded as binary. It is convenient for a short storage."
   ]
  },
  {
   "cell_type": "markdown",
   "metadata": {},
   "source": [
    "# Read excel using pd.ExcelFile"
   ]
  },
  {
   "cell_type": "markdown",
   "metadata": {},
   "source": [
    "## Interacting with HTML and Web APIS"
   ]
  },
  {
   "cell_type": "code",
   "execution_count": 15,
   "metadata": {
    "collapsed": true
   },
   "outputs": [],
   "source": [
    "import requests"
   ]
  },
  {
   "cell_type": "code",
   "execution_count": 16,
   "metadata": {
    "collapsed": false
   },
   "outputs": [
    {
     "data": {
      "text/plain": [
       "<Response [410]>"
      ]
     },
     "execution_count": 16,
     "metadata": {},
     "output_type": "execute_result"
    }
   ],
   "source": [
    "url = 'http://search.twitter.com/search.json?q=python%20pandas'\n",
    "resp= requests.get(url)\n",
    "resp"
   ]
  },
  {
   "cell_type": "code",
   "execution_count": 17,
   "metadata": {
    "collapsed": true
   },
   "outputs": [],
   "source": [
    "import json\n",
    "data=json.loads(resp.text)"
   ]
  },
  {
   "cell_type": "code",
   "execution_count": 18,
   "metadata": {
    "collapsed": false
   },
   "outputs": [
    {
     "data": {
      "text/plain": [
       "{u'errors': [{u'code': 64,\n",
       "   u'message': u'The Twitter REST API v1 is no longer active. Please migrate to API v1.1. https://dev.twitter.com/docs/api/1.1/overview.'}]}"
      ]
     },
     "execution_count": 18,
     "metadata": {},
     "output_type": "execute_result"
    }
   ],
   "source": [
    "data"
   ]
  },
  {
   "cell_type": "markdown",
   "metadata": {},
   "source": [
    "# interacting with databases"
   ]
  },
  {
   "cell_type": "code",
   "execution_count": 21,
   "metadata": {
    "collapsed": false
   },
   "outputs": [],
   "source": [
    "import sqlite3\n",
    "query = \"\"\"\n",
    "CREATE TABLE test\n",
    "(a VARCHAR(20), b VARCHAR(20),\n",
    "c REAL, d INTEGER\n",
    ");\"\"\"\n",
    "\n",
    "conn=sqlite3.connect(\":memory:\")\n",
    "conn.execute(query)\n",
    "conn.commit()"
   ]
  },
  {
   "cell_type": "code",
   "execution_count": null,
   "metadata": {
    "collapsed": true
   },
   "outputs": [],
   "source": []
  }
 ],
 "metadata": {
  "anaconda-cloud": {},
  "kernelspec": {
   "display_name": "Python [conda root]",
   "language": "python",
   "name": "conda-root-py"
  },
  "language_info": {
   "codemirror_mode": {
    "name": "ipython",
    "version": 2
   },
   "file_extension": ".py",
   "mimetype": "text/x-python",
   "name": "python",
   "nbconvert_exporter": "python",
   "pygments_lexer": "ipython2",
   "version": "2.7.12"
  }
 },
 "nbformat": 4,
 "nbformat_minor": 1
}
